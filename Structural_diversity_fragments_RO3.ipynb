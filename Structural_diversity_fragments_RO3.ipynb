{
 "cells": [
  {
   "cell_type": "code",
   "execution_count": 1,
   "metadata": {
    "id": "_4FH-emmrmxx"
   },
   "outputs": [],
   "source": [
    "import rdkit\n",
    "import pandas as pd\n",
    "import numpy as np\n",
    "from rdkit import Chem\n",
    "from rdkit.Chem import MACCSkeys, AllChem\n",
    "from rdkit.Chem import rdFingerprintGenerator\n",
    "from scipy.spatial.distance import pdist"
   ]
  },
  {
   "cell_type": "code",
   "execution_count": 2,
   "metadata": {
    "id": "IIZSp6XPrXtv"
   },
   "outputs": [],
   "source": [
    "#from google.colab import drive\n",
    "#drive.mount('/content/drive')"
   ]
  },
  {
   "cell_type": "code",
   "execution_count": 3,
   "metadata": {
    "colab": {
     "base_uri": "https://localhost:8080/"
    },
    "id": "_fWrCRZDqcYA",
    "outputId": "eb196873-ac39-4f68-8475-878ac6db2504"
   },
   "outputs": [
    {
     "name": "stdout",
     "output_type": "stream",
     "text": [
      "rdkit_version: 2024.03.5\n"
     ]
    }
   ],
   "source": [
    "print(f\"rdkit_version: {rdkit.__version__}\")"
   ]
  },
  {
   "cell_type": "code",
   "execution_count": 4,
   "metadata": {
    "colab": {
     "base_uri": "https://localhost:8080/",
     "height": 112
    },
    "id": "4afSEQUcwO3P",
    "outputId": "69465eda-619e-4c5d-e7d7-b66762abcad6"
   },
   "outputs": [
    {
     "data": {
      "text/html": [
       "<div>\n",
       "<style scoped>\n",
       "    .dataframe tbody tr th:only-of-type {\n",
       "        vertical-align: middle;\n",
       "    }\n",
       "\n",
       "    .dataframe tbody tr th {\n",
       "        vertical-align: top;\n",
       "    }\n",
       "\n",
       "    .dataframe thead th {\n",
       "        text-align: right;\n",
       "    }\n",
       "</style>\n",
       "<table border=\"1\" class=\"dataframe\">\n",
       "  <thead>\n",
       "    <tr style=\"text-align: right;\">\n",
       "      <th></th>\n",
       "      <th>ID</th>\n",
       "      <th>SMILES_chiral</th>\n",
       "      <th>Database</th>\n",
       "    </tr>\n",
       "  </thead>\n",
       "  <tbody>\n",
       "    <tr>\n",
       "      <th>1830</th>\n",
       "      <td>LANaPDB_fragments_73605</td>\n",
       "      <td>CC1(C)[C@H]2CCC[C@]3(CO3)[C@]2(C)C[C@H](O)[C@]...</td>\n",
       "      <td>LANaPDB</td>\n",
       "    </tr>\n",
       "    <tr>\n",
       "      <th>1831</th>\n",
       "      <td>LANaPDB_fragments_74033</td>\n",
       "      <td>CCC(C)=CC(=O)O</td>\n",
       "      <td>LANaPDB</td>\n",
       "    </tr>\n",
       "  </tbody>\n",
       "</table>\n",
       "</div>"
      ],
      "text/plain": [
       "                           ID  \\\n",
       "1830  LANaPDB_fragments_73605   \n",
       "1831  LANaPDB_fragments_74033   \n",
       "\n",
       "                                          SMILES_chiral Database  \n",
       "1830  CC1(C)[C@H]2CCC[C@]3(CO3)[C@]2(C)C[C@H](O)[C@]...  LANaPDB  \n",
       "1831                                     CCC(C)=CC(=O)O  LANaPDB  "
      ]
     },
     "execution_count": 4,
     "metadata": {},
     "output_type": "execute_result"
    }
   ],
   "source": [
    "# LANaPDB RO3\n",
    "url_data = \"https://raw.githubusercontent.com/DIFACQUIM/Fragment-libraries-from-large-synthetic-compounds-and-natural-products-collections/refs/heads/main/DATA_SET/DATA_FRAGMENTS_RO3/LANaPDB_RO3_Moleculardescriptors.csv\"\n",
    "lanapdb_RO3 = pd.read_csv(url_data)\n",
    "lanapdb_RO3 = lanapdb_RO3[[\"ID\", \"SMILES_chiral\"]]\n",
    "lanapdb_RO3[\"Database\"] = \"LANaPDB\"\n",
    "lanapdb_RO3.tail(2)"
   ]
  },
  {
   "cell_type": "code",
   "execution_count": 5,
   "metadata": {
    "colab": {
     "base_uri": "https://localhost:8080/",
     "height": 112
    },
    "id": "ySuEbCriwVw_",
    "outputId": "9901c387-981f-4e96-8c7b-e0459f173354"
   },
   "outputs": [
    {
     "data": {
      "text/html": [
       "<div>\n",
       "<style scoped>\n",
       "    .dataframe tbody tr th:only-of-type {\n",
       "        vertical-align: middle;\n",
       "    }\n",
       "\n",
       "    .dataframe tbody tr th {\n",
       "        vertical-align: top;\n",
       "    }\n",
       "\n",
       "    .dataframe thead th {\n",
       "        text-align: right;\n",
       "    }\n",
       "</style>\n",
       "<table border=\"1\" class=\"dataframe\">\n",
       "  <thead>\n",
       "    <tr style=\"text-align: right;\">\n",
       "      <th></th>\n",
       "      <th>ID</th>\n",
       "      <th>SMILES_chiral</th>\n",
       "      <th>Database</th>\n",
       "    </tr>\n",
       "  </thead>\n",
       "  <tbody>\n",
       "    <tr>\n",
       "      <th>38745</th>\n",
       "      <td>COCONUT_fragments_2583030</td>\n",
       "      <td>O=c1cco[nH]1</td>\n",
       "      <td>COCONUT</td>\n",
       "    </tr>\n",
       "    <tr>\n",
       "      <th>38746</th>\n",
       "      <td>COCONUT_fragments_2583083</td>\n",
       "      <td>O=CC1C=CCC1</td>\n",
       "      <td>COCONUT</td>\n",
       "    </tr>\n",
       "  </tbody>\n",
       "</table>\n",
       "</div>"
      ],
      "text/plain": [
       "                              ID SMILES_chiral Database\n",
       "38745  COCONUT_fragments_2583030  O=c1cco[nH]1  COCONUT\n",
       "38746  COCONUT_fragments_2583083   O=CC1C=CCC1  COCONUT"
      ]
     },
     "execution_count": 5,
     "metadata": {},
     "output_type": "execute_result"
    }
   ],
   "source": [
    "# COCONUT RO3\n",
    "url_data = \"https://raw.githubusercontent.com/DIFACQUIM/Fragment-libraries-from-large-synthetic-compounds-and-natural-products-collections/refs/heads/main/DATA_SET/DATA_FRAGMENTS_RO3/COCONUT_RO3_Moleculardescriptors.csv\"\n",
    "coconut_RO3 = pd.read_csv(url_data)\n",
    "coconut_RO3 = coconut_RO3[[\"ID\", \"SMILES_chiral\",\"Database\"]]\n",
    "coconut_RO3.tail(2)"
   ]
  },
  {
   "cell_type": "code",
   "execution_count": 6,
   "metadata": {
    "colab": {
     "base_uri": "https://localhost:8080/",
     "height": 112
    },
    "id": "OlnsDM6xxM8g",
    "outputId": "7b089227-b532-423e-e6dc-844fcf5c625c"
   },
   "outputs": [
    {
     "data": {
      "text/html": [
       "<div>\n",
       "<style scoped>\n",
       "    .dataframe tbody tr th:only-of-type {\n",
       "        vertical-align: middle;\n",
       "    }\n",
       "\n",
       "    .dataframe tbody tr th {\n",
       "        vertical-align: top;\n",
       "    }\n",
       "\n",
       "    .dataframe thead th {\n",
       "        text-align: right;\n",
       "    }\n",
       "</style>\n",
       "<table border=\"1\" class=\"dataframe\">\n",
       "  <thead>\n",
       "    <tr style=\"text-align: right;\">\n",
       "      <th></th>\n",
       "      <th>ID</th>\n",
       "      <th>SMILES_chiral</th>\n",
       "      <th>Database</th>\n",
       "    </tr>\n",
       "  </thead>\n",
       "  <tbody>\n",
       "    <tr>\n",
       "      <th>8384</th>\n",
       "      <td>Z212848872</td>\n",
       "      <td>CC1CN(C(=O)Cc2cccc(F)c2)CCO1</td>\n",
       "      <td>Enamine</td>\n",
       "    </tr>\n",
       "    <tr>\n",
       "      <th>8385</th>\n",
       "      <td>Z228588126</td>\n",
       "      <td>CC(C(=O)N1CCCCCC1)N1CCNCC1</td>\n",
       "      <td>Enamine</td>\n",
       "    </tr>\n",
       "  </tbody>\n",
       "</table>\n",
       "</div>"
      ],
      "text/plain": [
       "              ID                 SMILES_chiral Database\n",
       "8384  Z212848872  CC1CN(C(=O)Cc2cccc(F)c2)CCO1  Enamine\n",
       "8385  Z228588126    CC(C(=O)N1CCCCCC1)N1CCNCC1  Enamine"
      ]
     },
     "execution_count": 6,
     "metadata": {},
     "output_type": "execute_result"
    }
   ],
   "source": [
    "# Enamine RO3\n",
    "url_data = \"https://raw.githubusercontent.com/DIFACQUIM/Fragment-libraries-from-large-synthetic-compounds-and-natural-products-collections/refs/heads/main/DATA_SET/DATA_FRAGMENTS_RO3/Enamine_RO3_Moleculardescriptors.csv\"\n",
    "Enamine_RO3 = pd.read_csv(url_data)\n",
    "Enamine_RO3 = Enamine_RO3[[\"ID\", \"SMILES_chiral\"]]\n",
    "Enamine_RO3[\"Database\"] = \"Enamine\"\n",
    "Enamine_RO3.tail(2)"
   ]
  },
  {
   "cell_type": "code",
   "execution_count": 7,
   "metadata": {
    "colab": {
     "base_uri": "https://localhost:8080/",
     "height": 112
    },
    "id": "d3j4QgasxbTr",
    "outputId": "8fc59059-6d68-41e1-e8e5-2e800d8e1332"
   },
   "outputs": [
    {
     "data": {
      "text/html": [
       "<div>\n",
       "<style scoped>\n",
       "    .dataframe tbody tr th:only-of-type {\n",
       "        vertical-align: middle;\n",
       "    }\n",
       "\n",
       "    .dataframe tbody tr th {\n",
       "        vertical-align: top;\n",
       "    }\n",
       "\n",
       "    .dataframe thead th {\n",
       "        text-align: right;\n",
       "    }\n",
       "</style>\n",
       "<table border=\"1\" class=\"dataframe\">\n",
       "  <thead>\n",
       "    <tr style=\"text-align: right;\">\n",
       "      <th></th>\n",
       "      <th>ID</th>\n",
       "      <th>SMILES_chiral</th>\n",
       "      <th>Database</th>\n",
       "    </tr>\n",
       "  </thead>\n",
       "  <tbody>\n",
       "    <tr>\n",
       "      <th>16721</th>\n",
       "      <td>BB01-0446</td>\n",
       "      <td>CC(C)N1CCC2(CC1)NC(=O)c1ccccc1O2</td>\n",
       "      <td>ChemDiv</td>\n",
       "    </tr>\n",
       "    <tr>\n",
       "      <th>16722</th>\n",
       "      <td>BB01-0451</td>\n",
       "      <td>CC(=O)N1C(C(=O)O)CSC1c1ccc(C)cc1</td>\n",
       "      <td>ChemDiv</td>\n",
       "    </tr>\n",
       "  </tbody>\n",
       "</table>\n",
       "</div>"
      ],
      "text/plain": [
       "              ID                     SMILES_chiral Database\n",
       "16721  BB01-0446  CC(C)N1CCC2(CC1)NC(=O)c1ccccc1O2  ChemDiv\n",
       "16722  BB01-0451  CC(=O)N1C(C(=O)O)CSC1c1ccc(C)cc1  ChemDiv"
      ]
     },
     "execution_count": 7,
     "metadata": {},
     "output_type": "execute_result"
    }
   ],
   "source": [
    "# ChemDiv RO3\n",
    "url_data = \"https://raw.githubusercontent.com/DIFACQUIM/Fragment-libraries-from-large-synthetic-compounds-and-natural-products-collections/refs/heads/main/DATA_SET/DATA_FRAGMENTS_RO3/ChemDiv_RO3_Moleculardescriptors.csv\"\n",
    "ChemDiv_RO3 = pd.read_csv(url_data)\n",
    "ChemDiv_RO3 = ChemDiv_RO3[[\"ID\", \"SMILES_chiral\",\"Database\"]]\n",
    "ChemDiv_RO3.tail(2)"
   ]
  },
  {
   "cell_type": "code",
   "execution_count": 8,
   "metadata": {
    "colab": {
     "base_uri": "https://localhost:8080/",
     "height": 112
    },
    "id": "iffhsHp_xlD9",
    "outputId": "425fa402-bcef-485c-c939-c235bc135c12"
   },
   "outputs": [
    {
     "data": {
      "text/html": [
       "<div>\n",
       "<style scoped>\n",
       "    .dataframe tbody tr th:only-of-type {\n",
       "        vertical-align: middle;\n",
       "    }\n",
       "\n",
       "    .dataframe tbody tr th {\n",
       "        vertical-align: top;\n",
       "    }\n",
       "\n",
       "    .dataframe thead th {\n",
       "        text-align: right;\n",
       "    }\n",
       "</style>\n",
       "<table border=\"1\" class=\"dataframe\">\n",
       "  <thead>\n",
       "    <tr style=\"text-align: right;\">\n",
       "      <th></th>\n",
       "      <th>ID</th>\n",
       "      <th>SMILES_chiral</th>\n",
       "      <th>Database</th>\n",
       "    </tr>\n",
       "  </thead>\n",
       "  <tbody>\n",
       "    <tr>\n",
       "      <th>5910</th>\n",
       "      <td>KM08807</td>\n",
       "      <td>O=C1CC2CCCC(C1)N2Cc1ccccc1</td>\n",
       "      <td>Maybridge</td>\n",
       "    </tr>\n",
       "    <tr>\n",
       "      <th>5911</th>\n",
       "      <td>SEW04324</td>\n",
       "      <td>O=C(c1ccccc1)C1CCN(C(=O)C(F)(F)F)CC1</td>\n",
       "      <td>Maybridge</td>\n",
       "    </tr>\n",
       "  </tbody>\n",
       "</table>\n",
       "</div>"
      ],
      "text/plain": [
       "            ID                         SMILES_chiral   Database\n",
       "5910   KM08807            O=C1CC2CCCC(C1)N2Cc1ccccc1  Maybridge\n",
       "5911  SEW04324  O=C(c1ccccc1)C1CCN(C(=O)C(F)(F)F)CC1  Maybridge"
      ]
     },
     "execution_count": 8,
     "metadata": {},
     "output_type": "execute_result"
    }
   ],
   "source": [
    "# Maybridge RO3\n",
    "url_data = \"https://raw.githubusercontent.com/DIFACQUIM/Fragment-libraries-from-large-synthetic-compounds-and-natural-products-collections/refs/heads/main/DATA_SET/DATA_FRAGMENTS_RO3/Maybridge_RO3_Moleculardescriptors.csv\"\n",
    "Maybridge_RO3 = pd.read_csv(url_data)\n",
    "Maybridge_RO3 = Maybridge_RO3[[\"ID\", \"SMILES_chiral\", \"Database\"]]\n",
    "Maybridge_RO3.tail(2)"
   ]
  },
  {
   "cell_type": "code",
   "execution_count": 9,
   "metadata": {
    "colab": {
     "base_uri": "https://localhost:8080/",
     "height": 147
    },
    "id": "rCslB7R-xtHg",
    "outputId": "e5d31029-1248-4762-bd10-cf0986df0d25"
   },
   "outputs": [
    {
     "data": {
      "text/html": [
       "<div>\n",
       "<style scoped>\n",
       "    .dataframe tbody tr th:only-of-type {\n",
       "        vertical-align: middle;\n",
       "    }\n",
       "\n",
       "    .dataframe tbody tr th {\n",
       "        vertical-align: top;\n",
       "    }\n",
       "\n",
       "    .dataframe thead th {\n",
       "        text-align: right;\n",
       "    }\n",
       "</style>\n",
       "<table border=\"1\" class=\"dataframe\">\n",
       "  <thead>\n",
       "    <tr style=\"text-align: right;\">\n",
       "      <th></th>\n",
       "      <th>ID</th>\n",
       "      <th>SMILES_chiral</th>\n",
       "      <th>Database</th>\n",
       "    </tr>\n",
       "  </thead>\n",
       "  <tbody>\n",
       "    <tr>\n",
       "      <th>14732</th>\n",
       "      <td>F6782-0679</td>\n",
       "      <td>Cn1cc(C(=O)c2ccccc2)c(=O)c2cc(F)ccc21</td>\n",
       "      <td>Life Chemicals</td>\n",
       "    </tr>\n",
       "    <tr>\n",
       "      <th>14733</th>\n",
       "      <td>F0788-0005</td>\n",
       "      <td>c1cc[n+]2cc3n(c2c1)Cc1c[n+]2ccccc2n1C3</td>\n",
       "      <td>Life Chemicals</td>\n",
       "    </tr>\n",
       "  </tbody>\n",
       "</table>\n",
       "</div>"
      ],
      "text/plain": [
       "               ID                           SMILES_chiral        Database\n",
       "14732  F6782-0679   Cn1cc(C(=O)c2ccccc2)c(=O)c2cc(F)ccc21  Life Chemicals\n",
       "14733  F0788-0005  c1cc[n+]2cc3n(c2c1)Cc1c[n+]2ccccc2n1C3  Life Chemicals"
      ]
     },
     "execution_count": 9,
     "metadata": {},
     "output_type": "execute_result"
    }
   ],
   "source": [
    "\n",
    "# Life Chemicals RO3\n",
    "url_data = \"https://raw.githubusercontent.com/DIFACQUIM/Fragment-libraries-from-large-synthetic-compounds-and-natural-products-collections/refs/heads/main/DATA_SET/DATA_FRAGMENTS_RO3/LifeChemicals_RO3_Moleculardescriptors.csv\"\n",
    "LifeChemicals_RO3 = pd.read_csv(url_data)\n",
    "LifeChemicals_RO3 = LifeChemicals_RO3[[\"ID\", \"SMILES_chiral\"]]\n",
    "LifeChemicals_RO3[\"Database\"] = \"Life Chemicals\"\n",
    "LifeChemicals_RO3.tail(2)"
   ]
  },
  {
   "cell_type": "code",
   "execution_count": 10,
   "metadata": {
    "colab": {
     "base_uri": "https://localhost:8080/",
     "height": 112
    },
    "id": "GKhdvcZHx2KJ",
    "outputId": "d4026d65-5d6a-4e94-9629-fcec7f9dd4f9",
    "scrolled": true
   },
   "outputs": [
    {
     "data": {
      "text/html": [
       "<div>\n",
       "<style scoped>\n",
       "    .dataframe tbody tr th:only-of-type {\n",
       "        vertical-align: middle;\n",
       "    }\n",
       "\n",
       "    .dataframe tbody tr th {\n",
       "        vertical-align: top;\n",
       "    }\n",
       "\n",
       "    .dataframe thead th {\n",
       "        text-align: right;\n",
       "    }\n",
       "</style>\n",
       "<table border=\"1\" class=\"dataframe\">\n",
       "  <thead>\n",
       "    <tr style=\"text-align: right;\">\n",
       "      <th></th>\n",
       "      <th>ID</th>\n",
       "      <th>SMILES_chiral</th>\n",
       "      <th>Database</th>\n",
       "    </tr>\n",
       "  </thead>\n",
       "  <tbody>\n",
       "    <tr>\n",
       "      <th>174</th>\n",
       "      <td>QHM-0000005</td>\n",
       "      <td>O=C1C=C(Cl)C(=O)c2ccccc21</td>\n",
       "      <td>CRAFT</td>\n",
       "    </tr>\n",
       "    <tr>\n",
       "      <th>175</th>\n",
       "      <td>QHM-0000002</td>\n",
       "      <td>CC1(C)CCC2=C(O1)c1ccccc1C(=O)C2=O</td>\n",
       "      <td>CRAFT</td>\n",
       "    </tr>\n",
       "  </tbody>\n",
       "</table>\n",
       "</div>"
      ],
      "text/plain": [
       "              ID                      SMILES_chiral Database\n",
       "174  QHM-0000005          O=C1C=C(Cl)C(=O)c2ccccc21    CRAFT\n",
       "175  QHM-0000002  CC1(C)CCC2=C(O1)c1ccccc1C(=O)C2=O    CRAFT"
      ]
     },
     "execution_count": 10,
     "metadata": {},
     "output_type": "execute_result"
    }
   ],
   "source": [
    "# CRAFT RO3\n",
    "url_data = \"https://raw.githubusercontent.com/DIFACQUIM/Fragment-libraries-from-large-synthetic-compounds-and-natural-products-collections/refs/heads/main/DATA_SET/DATA_FRAGMENTS_RO3/CRAFT_RO3_Moleculardescriptors.csv\"\n",
    "CRAFT_RO3 = pd.read_csv(url_data)\n",
    "CRAFT_RO3 = CRAFT_RO3[[\"ID\", \"SMILES_chiral\", \"Database\"]]\n",
    "CRAFT_RO3.tail(2)"
   ]
  },
  {
   "cell_type": "code",
   "execution_count": 11,
   "metadata": {},
   "outputs": [],
   "source": [
    "# Definir SMILES para fragmentos\n",
    "lanapdb_RO3_smi = list(lanapdb_RO3[\"SMILES_chiral\"])\n",
    "coconut_RO3_smi = list(coconut_RO3[\"SMILES_chiral\"])\n",
    "Enamine_RO3_smi = list(Enamine_RO3[\"SMILES_chiral\"])\n",
    "ChemDiv_RO3_smi = list(ChemDiv_RO3[\"SMILES_chiral\"])\n",
    "Maybridge_RO3_smi = list(Maybridge_RO3[\"SMILES_chiral\"])\n",
    "LifeChemicals_RO3_smi = list(LifeChemicals_RO3[\"SMILES_chiral\"])\n",
    "CRAFT_RO3_smi = list(CRAFT_RO3[\"SMILES_chiral\"])"
   ]
  },
  {
   "cell_type": "markdown",
   "metadata": {
    "id": "YCX8oLgHjj6W"
   },
   "source": [
    "#### Functions"
   ]
  },
  {
   "cell_type": "code",
   "execution_count": 12,
   "metadata": {
    "id": "GvRcqELDjj6W"
   },
   "outputs": [],
   "source": [
    "def ECFP (smi, r):\n",
    "    fps = pd.DataFrame([[int(y) for y in rdFingerprintGenerator.GetMorganGenerator(radius=r, fpSize=1024).GetFingerprint(Chem.MolFromSmiles(x)).ToBitString()] for x in smi])\n",
    "    SimMat = 1 - pdist(fps[[x for x in range(1024)]], metric=\"jaccard\") # Similarity Matrix\n",
    "    #print(SimMat.shape)\n",
    "    SimMat = round(np.median(SimMat), 3)\n",
    "    return SimMat\n",
    "\n",
    "def MACCSkeys_fp (smi):\n",
    "    fps = pd.DataFrame([[int(y) for y in MACCSkeys.GenMACCSKeys(Chem.MolFromSmiles(x)).ToBitString()] for x in smi])\n",
    "    SimMat = 1 - pdist(fps[[x for x in range(167)]], metric=\"jaccard\") # Similarity Matrix\n",
    "    #print(SimMat.shape)\n",
    "    SimMat = round(np.median(SimMat), 3)\n",
    "    return SimMat"
   ]
  },
  {
   "cell_type": "markdown",
   "metadata": {
    "id": "1YPb6Mt0jj6W"
   },
   "source": [
    "### ECFP4"
   ]
  },
  {
   "cell_type": "code",
   "execution_count": 13,
   "metadata": {},
   "outputs": [
    {
     "name": "stdout",
     "output_type": "stream",
     "text": [
      "[0.085, 0.094, 0.108, 0.121, 0.096, 0.1, 0.109]\n",
      "[0.072, 0.079, 0.087, 0.099, 0.08, 0.082, 0.09]\n",
      "[0.222, 0.282, 0.257, 0.333, 0.255, 0.231, 0.326]\n"
     ]
    }
   ],
   "source": [
    "ecfp_2 = [ECFP(coconut_RO3_smi, 2), ECFP(lanapdb_RO3_smi, 2), ECFP(CRAFT_RO3_smi, 2),\n",
    "          ECFP(Enamine_RO3_smi, 2), ECFP(ChemDiv_RO3_smi, 2), ECFP(Maybridge_RO3_smi, 2),\n",
    "          ECFP(LifeChemicals_RO3_smi, 2)]\n",
    "print(ecfp_2)\n",
    "\n",
    "ecfp_3 = [ECFP(coconut_RO3_smi, 3), ECFP(lanapdb_RO3_smi, 3), ECFP(CRAFT_RO3_smi, 3),\n",
    "          ECFP(Enamine_RO3_smi, 3), ECFP(ChemDiv_RO3_smi, 3), ECFP(Maybridge_RO3_smi, 3), \n",
    "          ECFP(LifeChemicals_RO3_smi, 3)]\n",
    "print(ecfp_3)\n",
    "\n",
    "MACCS_keys = [MACCSkeys_fp(coconut_RO3_smi), MACCSkeys_fp(lanapdb_RO3_smi), MACCSkeys_fp(CRAFT_RO3_smi),\n",
    "              MACCSkeys_fp(Enamine_RO3_smi), MACCSkeys_fp(ChemDiv_RO3_smi), MACCSkeys_fp(Maybridge_RO3_smi), \n",
    "              MACCSkeys_fp(LifeChemicals_RO3_smi)]\n",
    "print(MACCS_keys)\n",
    "\n",
    "Collection = [\"coconut_RO3\", \"lanapdb_RO3\", \"CRAFT_RO3\", \"EnamineSolWat_RO3\", \n",
    "              \"ChemDiv_RO3\", \"Maybridge_RO3\", \"LifeChemicals_RO3\",\n",
    "              ]\n",
    "Fragments = [len(coconut_RO3), len(lanapdb_RO3), len(CRAFT_RO3),\n",
    "             len(Enamine_RO3), len(ChemDiv_RO3), len(Maybridge_RO3), \n",
    "             len(LifeChemicals_RO3)]"
   ]
  },
  {
   "cell_type": "code",
   "execution_count": 14,
   "metadata": {},
   "outputs": [
    {
     "data": {
      "text/plain": [
       "array([['coconut_RO3', '38747', '0.222', '0.085', '0.072'],\n",
       "       ['lanapdb_RO3', '1832', '0.282', '0.094', '0.079'],\n",
       "       ['CRAFT_RO3', '176', '0.257', '0.108', '0.087'],\n",
       "       ['EnamineSolWat_RO3', '8386', '0.333', '0.121', '0.099'],\n",
       "       ['ChemDiv_RO3', '16723', '0.255', '0.096', '0.08'],\n",
       "       ['Maybridge_RO3', '5912', '0.231', '0.1', '0.082'],\n",
       "       ['LifeChemicals_RO3', '14734', '0.326', '0.109', '0.09']],\n",
       "      dtype='<U32')"
      ]
     },
     "execution_count": 14,
     "metadata": {},
     "output_type": "execute_result"
    }
   ],
   "source": [
    "arr = np.array([Collection, Fragments, MACCS_keys, ecfp_2, ecfp_3])\n",
    "arr = np.transpose(arr)\n",
    "arr"
   ]
  },
  {
   "cell_type": "code",
   "execution_count": 15,
   "metadata": {},
   "outputs": [
    {
     "data": {
      "text/html": [
       "<div>\n",
       "<style scoped>\n",
       "    .dataframe tbody tr th:only-of-type {\n",
       "        vertical-align: middle;\n",
       "    }\n",
       "\n",
       "    .dataframe tbody tr th {\n",
       "        vertical-align: top;\n",
       "    }\n",
       "\n",
       "    .dataframe thead th {\n",
       "        text-align: right;\n",
       "    }\n",
       "</style>\n",
       "<table border=\"1\" class=\"dataframe\">\n",
       "  <thead>\n",
       "    <tr style=\"text-align: right;\">\n",
       "      <th></th>\n",
       "      <th>Collection</th>\n",
       "      <th>Fragments RO3</th>\n",
       "      <th>MACCS keys</th>\n",
       "      <th>Morgan2</th>\n",
       "      <th>Morgan3</th>\n",
       "    </tr>\n",
       "  </thead>\n",
       "  <tbody>\n",
       "    <tr>\n",
       "      <th>0</th>\n",
       "      <td>coconut_RO3</td>\n",
       "      <td>38747</td>\n",
       "      <td>0.222</td>\n",
       "      <td>0.085</td>\n",
       "      <td>0.072</td>\n",
       "    </tr>\n",
       "    <tr>\n",
       "      <th>1</th>\n",
       "      <td>lanapdb_RO3</td>\n",
       "      <td>1832</td>\n",
       "      <td>0.282</td>\n",
       "      <td>0.094</td>\n",
       "      <td>0.079</td>\n",
       "    </tr>\n",
       "    <tr>\n",
       "      <th>2</th>\n",
       "      <td>CRAFT_RO3</td>\n",
       "      <td>176</td>\n",
       "      <td>0.257</td>\n",
       "      <td>0.108</td>\n",
       "      <td>0.087</td>\n",
       "    </tr>\n",
       "    <tr>\n",
       "      <th>3</th>\n",
       "      <td>EnamineSolWat_RO3</td>\n",
       "      <td>8386</td>\n",
       "      <td>0.333</td>\n",
       "      <td>0.121</td>\n",
       "      <td>0.099</td>\n",
       "    </tr>\n",
       "    <tr>\n",
       "      <th>4</th>\n",
       "      <td>ChemDiv_RO3</td>\n",
       "      <td>16723</td>\n",
       "      <td>0.255</td>\n",
       "      <td>0.096</td>\n",
       "      <td>0.08</td>\n",
       "    </tr>\n",
       "    <tr>\n",
       "      <th>5</th>\n",
       "      <td>Maybridge_RO3</td>\n",
       "      <td>5912</td>\n",
       "      <td>0.231</td>\n",
       "      <td>0.1</td>\n",
       "      <td>0.082</td>\n",
       "    </tr>\n",
       "    <tr>\n",
       "      <th>6</th>\n",
       "      <td>LifeChemicals_RO3</td>\n",
       "      <td>14734</td>\n",
       "      <td>0.326</td>\n",
       "      <td>0.109</td>\n",
       "      <td>0.09</td>\n",
       "    </tr>\n",
       "  </tbody>\n",
       "</table>\n",
       "</div>"
      ],
      "text/plain": [
       "          Collection Fragments RO3 MACCS keys Morgan2 Morgan3\n",
       "0        coconut_RO3         38747      0.222   0.085   0.072\n",
       "1        lanapdb_RO3          1832      0.282   0.094   0.079\n",
       "2          CRAFT_RO3           176      0.257   0.108   0.087\n",
       "3  EnamineSolWat_RO3          8386      0.333   0.121   0.099\n",
       "4        ChemDiv_RO3         16723      0.255   0.096    0.08\n",
       "5      Maybridge_RO3          5912      0.231     0.1   0.082\n",
       "6  LifeChemicals_RO3         14734      0.326   0.109    0.09"
      ]
     },
     "execution_count": 15,
     "metadata": {},
     "output_type": "execute_result"
    }
   ],
   "source": [
    "FINGERPRINTS = pd.DataFrame(arr, columns = [\"Collection\", \"Fragments RO3\", \"MACCS keys\", \"Morgan2\", \"Morgan3\"])\n",
    "FINGERPRINTS"
   ]
  },
  {
   "cell_type": "code",
   "execution_count": 16,
   "metadata": {},
   "outputs": [],
   "source": [
    "FINGERPRINTS.to_csv(\"Fingerprints_median_similarty_Fragments_RO3.csv\", sep=\",\", index=False)"
   ]
  }
 ],
 "metadata": {
  "colab": {
   "provenance": []
  },
  "kernelspec": {
   "display_name": "PyG1",
   "language": "python",
   "name": "python3"
  },
  "language_info": {
   "codemirror_mode": {
    "name": "ipython",
    "version": 3
   },
   "file_extension": ".py",
   "mimetype": "text/x-python",
   "name": "python",
   "nbconvert_exporter": "python",
   "pygments_lexer": "ipython3",
   "version": "3.8.18"
  },
  "widgets": {
   "application/vnd.jupyter.widget-state+json": {
    "07f1466f64104090a4422f3c6d6a39fe": {
     "model_module": "@jupyter-widgets/controls",
     "model_module_version": "1.5.0",
     "model_name": "HBoxModel",
     "state": {
      "_dom_classes": [],
      "_model_module": "@jupyter-widgets/controls",
      "_model_module_version": "1.5.0",
      "_model_name": "HBoxModel",
      "_view_count": null,
      "_view_module": "@jupyter-widgets/controls",
      "_view_module_version": "1.5.0",
      "_view_name": "HBoxView",
      "box_style": "",
      "children": [
       "IPY_MODEL_67ba090c97084da4888e1f1a95edf72a",
       "IPY_MODEL_ba7b06dc408d48958cc6d8bd9f569be0",
       "IPY_MODEL_9949479e194b4fe5a9ba8a12a43640e0"
      ],
      "layout": "IPY_MODEL_94e88c9d43124ae1b8efb1f15a895116"
     }
    },
    "67ba090c97084da4888e1f1a95edf72a": {
     "model_module": "@jupyter-widgets/controls",
     "model_module_version": "1.5.0",
     "model_name": "HTMLModel",
     "state": {
      "_dom_classes": [],
      "_model_module": "@jupyter-widgets/controls",
      "_model_module_version": "1.5.0",
      "_model_name": "HTMLModel",
      "_view_count": null,
      "_view_module": "@jupyter-widgets/controls",
      "_view_module_version": "1.5.0",
      "_view_name": "HTMLView",
      "description": "",
      "description_tooltip": null,
      "layout": "IPY_MODEL_a5ecae1df7d84678baa14076065d9714",
      "placeholder": "​",
      "style": "IPY_MODEL_b9692f1481bd40d6b80323cc5da70aaa",
      "value": "100%"
     }
    },
    "94e88c9d43124ae1b8efb1f15a895116": {
     "model_module": "@jupyter-widgets/base",
     "model_module_version": "1.2.0",
     "model_name": "LayoutModel",
     "state": {
      "_model_module": "@jupyter-widgets/base",
      "_model_module_version": "1.2.0",
      "_model_name": "LayoutModel",
      "_view_count": null,
      "_view_module": "@jupyter-widgets/base",
      "_view_module_version": "1.2.0",
      "_view_name": "LayoutView",
      "align_content": null,
      "align_items": null,
      "align_self": null,
      "border": null,
      "bottom": null,
      "display": null,
      "flex": null,
      "flex_flow": null,
      "grid_area": null,
      "grid_auto_columns": null,
      "grid_auto_flow": null,
      "grid_auto_rows": null,
      "grid_column": null,
      "grid_gap": null,
      "grid_row": null,
      "grid_template_areas": null,
      "grid_template_columns": null,
      "grid_template_rows": null,
      "height": null,
      "justify_content": null,
      "justify_items": null,
      "left": null,
      "margin": null,
      "max_height": null,
      "max_width": null,
      "min_height": null,
      "min_width": null,
      "object_fit": null,
      "object_position": null,
      "order": null,
      "overflow": null,
      "overflow_x": null,
      "overflow_y": null,
      "padding": null,
      "right": null,
      "top": null,
      "visibility": null,
      "width": null
     }
    },
    "9949479e194b4fe5a9ba8a12a43640e0": {
     "model_module": "@jupyter-widgets/controls",
     "model_module_version": "1.5.0",
     "model_name": "HTMLModel",
     "state": {
      "_dom_classes": [],
      "_model_module": "@jupyter-widgets/controls",
      "_model_module_version": "1.5.0",
      "_model_name": "HTMLModel",
      "_view_count": null,
      "_view_module": "@jupyter-widgets/controls",
      "_view_module_version": "1.5.0",
      "_view_name": "HTMLView",
      "description": "",
      "description_tooltip": null,
      "layout": "IPY_MODEL_f311bc4137244010a532adf19bb4cf97",
      "placeholder": "​",
      "style": "IPY_MODEL_b544565c3c84473d86b200207eb6ad26",
      "value": " 100/100 [00:16&lt;00:00,  5.89it/s]"
     }
    },
    "a5ecae1df7d84678baa14076065d9714": {
     "model_module": "@jupyter-widgets/base",
     "model_module_version": "1.2.0",
     "model_name": "LayoutModel",
     "state": {
      "_model_module": "@jupyter-widgets/base",
      "_model_module_version": "1.2.0",
      "_model_name": "LayoutModel",
      "_view_count": null,
      "_view_module": "@jupyter-widgets/base",
      "_view_module_version": "1.2.0",
      "_view_name": "LayoutView",
      "align_content": null,
      "align_items": null,
      "align_self": null,
      "border": null,
      "bottom": null,
      "display": null,
      "flex": null,
      "flex_flow": null,
      "grid_area": null,
      "grid_auto_columns": null,
      "grid_auto_flow": null,
      "grid_auto_rows": null,
      "grid_column": null,
      "grid_gap": null,
      "grid_row": null,
      "grid_template_areas": null,
      "grid_template_columns": null,
      "grid_template_rows": null,
      "height": null,
      "justify_content": null,
      "justify_items": null,
      "left": null,
      "margin": null,
      "max_height": null,
      "max_width": null,
      "min_height": null,
      "min_width": null,
      "object_fit": null,
      "object_position": null,
      "order": null,
      "overflow": null,
      "overflow_x": null,
      "overflow_y": null,
      "padding": null,
      "right": null,
      "top": null,
      "visibility": null,
      "width": null
     }
    },
    "b544565c3c84473d86b200207eb6ad26": {
     "model_module": "@jupyter-widgets/controls",
     "model_module_version": "1.5.0",
     "model_name": "DescriptionStyleModel",
     "state": {
      "_model_module": "@jupyter-widgets/controls",
      "_model_module_version": "1.5.0",
      "_model_name": "DescriptionStyleModel",
      "_view_count": null,
      "_view_module": "@jupyter-widgets/base",
      "_view_module_version": "1.2.0",
      "_view_name": "StyleView",
      "description_width": ""
     }
    },
    "b9692f1481bd40d6b80323cc5da70aaa": {
     "model_module": "@jupyter-widgets/controls",
     "model_module_version": "1.5.0",
     "model_name": "DescriptionStyleModel",
     "state": {
      "_model_module": "@jupyter-widgets/controls",
      "_model_module_version": "1.5.0",
      "_model_name": "DescriptionStyleModel",
      "_view_count": null,
      "_view_module": "@jupyter-widgets/base",
      "_view_module_version": "1.2.0",
      "_view_name": "StyleView",
      "description_width": ""
     }
    },
    "ba7b06dc408d48958cc6d8bd9f569be0": {
     "model_module": "@jupyter-widgets/controls",
     "model_module_version": "1.5.0",
     "model_name": "FloatProgressModel",
     "state": {
      "_dom_classes": [],
      "_model_module": "@jupyter-widgets/controls",
      "_model_module_version": "1.5.0",
      "_model_name": "FloatProgressModel",
      "_view_count": null,
      "_view_module": "@jupyter-widgets/controls",
      "_view_module_version": "1.5.0",
      "_view_name": "ProgressView",
      "bar_style": "success",
      "description": "",
      "description_tooltip": null,
      "layout": "IPY_MODEL_c975b3b7c75e4047811655ec9694eb45",
      "max": 100,
      "min": 0,
      "orientation": "horizontal",
      "style": "IPY_MODEL_f92e2b5c681643b2997e4dc8904bcdb6",
      "value": 100
     }
    },
    "c975b3b7c75e4047811655ec9694eb45": {
     "model_module": "@jupyter-widgets/base",
     "model_module_version": "1.2.0",
     "model_name": "LayoutModel",
     "state": {
      "_model_module": "@jupyter-widgets/base",
      "_model_module_version": "1.2.0",
      "_model_name": "LayoutModel",
      "_view_count": null,
      "_view_module": "@jupyter-widgets/base",
      "_view_module_version": "1.2.0",
      "_view_name": "LayoutView",
      "align_content": null,
      "align_items": null,
      "align_self": null,
      "border": null,
      "bottom": null,
      "display": null,
      "flex": null,
      "flex_flow": null,
      "grid_area": null,
      "grid_auto_columns": null,
      "grid_auto_flow": null,
      "grid_auto_rows": null,
      "grid_column": null,
      "grid_gap": null,
      "grid_row": null,
      "grid_template_areas": null,
      "grid_template_columns": null,
      "grid_template_rows": null,
      "height": null,
      "justify_content": null,
      "justify_items": null,
      "left": null,
      "margin": null,
      "max_height": null,
      "max_width": null,
      "min_height": null,
      "min_width": null,
      "object_fit": null,
      "object_position": null,
      "order": null,
      "overflow": null,
      "overflow_x": null,
      "overflow_y": null,
      "padding": null,
      "right": null,
      "top": null,
      "visibility": null,
      "width": null
     }
    },
    "f311bc4137244010a532adf19bb4cf97": {
     "model_module": "@jupyter-widgets/base",
     "model_module_version": "1.2.0",
     "model_name": "LayoutModel",
     "state": {
      "_model_module": "@jupyter-widgets/base",
      "_model_module_version": "1.2.0",
      "_model_name": "LayoutModel",
      "_view_count": null,
      "_view_module": "@jupyter-widgets/base",
      "_view_module_version": "1.2.0",
      "_view_name": "LayoutView",
      "align_content": null,
      "align_items": null,
      "align_self": null,
      "border": null,
      "bottom": null,
      "display": null,
      "flex": null,
      "flex_flow": null,
      "grid_area": null,
      "grid_auto_columns": null,
      "grid_auto_flow": null,
      "grid_auto_rows": null,
      "grid_column": null,
      "grid_gap": null,
      "grid_row": null,
      "grid_template_areas": null,
      "grid_template_columns": null,
      "grid_template_rows": null,
      "height": null,
      "justify_content": null,
      "justify_items": null,
      "left": null,
      "margin": null,
      "max_height": null,
      "max_width": null,
      "min_height": null,
      "min_width": null,
      "object_fit": null,
      "object_position": null,
      "order": null,
      "overflow": null,
      "overflow_x": null,
      "overflow_y": null,
      "padding": null,
      "right": null,
      "top": null,
      "visibility": null,
      "width": null
     }
    },
    "f92e2b5c681643b2997e4dc8904bcdb6": {
     "model_module": "@jupyter-widgets/controls",
     "model_module_version": "1.5.0",
     "model_name": "ProgressStyleModel",
     "state": {
      "_model_module": "@jupyter-widgets/controls",
      "_model_module_version": "1.5.0",
      "_model_name": "ProgressStyleModel",
      "_view_count": null,
      "_view_module": "@jupyter-widgets/base",
      "_view_module_version": "1.2.0",
      "_view_name": "StyleView",
      "bar_color": null,
      "description_width": ""
     }
    }
   }
  }
 },
 "nbformat": 4,
 "nbformat_minor": 4
}
